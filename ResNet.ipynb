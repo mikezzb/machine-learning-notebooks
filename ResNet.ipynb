{
 "cells": [
  {
   "cell_type": "markdown",
   "metadata": {},
   "source": [
    "# ResNet9"
   ]
  },
  {
   "cell_type": "code",
   "execution_count": 1,
   "metadata": {},
   "outputs": [],
   "source": [
    "import torch\n",
    "from torch import nn\n",
    "from torch.utils.data import DataLoader\n",
    "from torchvision import datasets\n",
    "import torchvision.transforms as transforms\n",
    "from utils import run"
   ]
  },
  {
   "cell_type": "markdown",
   "metadata": {},
   "source": [
    "### CIFAR10 Dataset"
   ]
  },
  {
   "cell_type": "code",
   "execution_count": 2,
   "metadata": {},
   "outputs": [
    {
     "name": "stdout",
     "output_type": "stream",
     "text": [
      "Files already downloaded and verified\n",
      "Files already downloaded and verified\n"
     ]
    }
   ],
   "source": [
    "# Training batch size\n",
    "batch_size = 256\n",
    "\n",
    "# Train transformation\n",
    "train_transform = transforms.Compose([\n",
    "    transforms.RandomCrop(32, padding=4),\n",
    "    transforms.RandomHorizontalFlip(p=0.5),\n",
    "    transforms.ToTensor(),\n",
    "    transforms.Normalize((0.5), (0.5))\n",
    "])\n",
    "\n",
    "# Download training data from open datasets.\n",
    "training_data = datasets.CIFAR10(\n",
    "    root=\"data\",\n",
    "    train=True,\n",
    "    download=True,\n",
    "    transform=train_transform,\n",
    ")\n",
    "\n",
    "# Test transformation\n",
    "test_transform = transforms.Compose([\n",
    "    transforms.ToTensor(),\n",
    "    transforms.Normalize((0.5), (0.5))\n",
    "])\n",
    "\n",
    "# Download test data from open datasets.\n",
    "test_data = datasets.CIFAR10(\n",
    "    root=\"data\",\n",
    "    train=False,\n",
    "    download=True,\n",
    "    transform=test_transform,\n",
    ")\n",
    "\n",
    "# Create data loaders.\n",
    "train_dataloader = DataLoader(training_data, batch_size=batch_size)\n",
    "test_dataloader = DataLoader(test_data, batch_size=batch_size)\n"
   ]
  },
  {
   "cell_type": "markdown",
   "metadata": {},
   "source": [
    "### ResNet Model"
   ]
  },
  {
   "cell_type": "code",
   "execution_count": 3,
   "metadata": {},
   "outputs": [],
   "source": [
    "def conv_bn(ch_in, ch_out, pool=False):\n",
    "    layers = [\n",
    "        nn.Conv2d(ch_in, ch_out, kernel_size=3,\n",
    "                  padding=1, stride=1, bias=False),\n",
    "        nn.BatchNorm2d(ch_out),\n",
    "        nn.ReLU(),\n",
    "    ]\n",
    "    if pool:\n",
    "        layers.append(nn.MaxPool2d(2))\n",
    "    return nn.Sequential(*layers)\n",
    "\n",
    "\n",
    "class ResidualBlock(nn.Module):\n",
    "    def __init__(self, ch):\n",
    "        super(ResidualBlock, self).__init__()\n",
    "        self.net = nn.Sequential(conv_bn(ch, ch), conv_bn(ch, ch))\n",
    "\n",
    "    def forward(self, x):\n",
    "        return self.net(x) + x\n",
    "\n",
    "\n",
    "class ResNet(nn.Module):\n",
    "    def __init__(self):\n",
    "        super(ResNet, self).__init__()\n",
    "        self.net = nn.Sequential(\n",
    "            conv_bn(3, 64),\n",
    "            conv_bn(64, 128, pool=True),\n",
    "            ResidualBlock(128),\n",
    "\n",
    "            conv_bn(128, 256, pool=True),\n",
    "            conv_bn(256, 512, pool=True),\n",
    "            ResidualBlock(512),\n",
    "\n",
    "            nn.MaxPool2d(4),\n",
    "            nn.Flatten(),\n",
    "            nn.Linear(512, 10),\n",
    "        )\n",
    "\n",
    "    def forward(self, x):\n",
    "        return self.net(x)\n"
   ]
  },
  {
   "cell_type": "code",
   "execution_count": 4,
   "metadata": {},
   "outputs": [
    {
     "name": "stdout",
     "output_type": "stream",
     "text": [
      "Using cuda device\n",
      "ResNet(\n",
      "  (net): Sequential(\n",
      "    (0): Sequential(\n",
      "      (0): Conv2d(3, 64, kernel_size=(3, 3), stride=(1, 1), padding=(1, 1), bias=False)\n",
      "      (1): BatchNorm2d(64, eps=1e-05, momentum=0.1, affine=True, track_running_stats=True)\n",
      "      (2): ReLU()\n",
      "    )\n",
      "    (1): Sequential(\n",
      "      (0): Conv2d(64, 128, kernel_size=(3, 3), stride=(1, 1), padding=(1, 1), bias=False)\n",
      "      (1): BatchNorm2d(128, eps=1e-05, momentum=0.1, affine=True, track_running_stats=True)\n",
      "      (2): ReLU()\n",
      "      (3): MaxPool2d(kernel_size=2, stride=2, padding=0, dilation=1, ceil_mode=False)\n",
      "    )\n",
      "    (2): ResidualBlock(\n",
      "      (net): Sequential(\n",
      "        (0): Sequential(\n",
      "          (0): Conv2d(128, 128, kernel_size=(3, 3), stride=(1, 1), padding=(1, 1), bias=False)\n",
      "          (1): BatchNorm2d(128, eps=1e-05, momentum=0.1, affine=True, track_running_stats=True)\n",
      "          (2): ReLU()\n",
      "        )\n",
      "        (1): Sequential(\n",
      "          (0): Conv2d(128, 128, kernel_size=(3, 3), stride=(1, 1), padding=(1, 1), bias=False)\n",
      "          (1): BatchNorm2d(128, eps=1e-05, momentum=0.1, affine=True, track_running_stats=True)\n",
      "          (2): ReLU()\n",
      "        )\n",
      "      )\n",
      "    )\n",
      "    (3): Sequential(\n",
      "      (0): Conv2d(128, 256, kernel_size=(3, 3), stride=(1, 1), padding=(1, 1), bias=False)\n",
      "      (1): BatchNorm2d(256, eps=1e-05, momentum=0.1, affine=True, track_running_stats=True)\n",
      "      (2): ReLU()\n",
      "      (3): MaxPool2d(kernel_size=2, stride=2, padding=0, dilation=1, ceil_mode=False)\n",
      "    )\n",
      "    (4): Sequential(\n",
      "      (0): Conv2d(256, 512, kernel_size=(3, 3), stride=(1, 1), padding=(1, 1), bias=False)\n",
      "      (1): BatchNorm2d(512, eps=1e-05, momentum=0.1, affine=True, track_running_stats=True)\n",
      "      (2): ReLU()\n",
      "      (3): MaxPool2d(kernel_size=2, stride=2, padding=0, dilation=1, ceil_mode=False)\n",
      "    )\n",
      "    (5): ResidualBlock(\n",
      "      (net): Sequential(\n",
      "        (0): Sequential(\n",
      "          (0): Conv2d(512, 512, kernel_size=(3, 3), stride=(1, 1), padding=(1, 1), bias=False)\n",
      "          (1): BatchNorm2d(512, eps=1e-05, momentum=0.1, affine=True, track_running_stats=True)\n",
      "          (2): ReLU()\n",
      "        )\n",
      "        (1): Sequential(\n",
      "          (0): Conv2d(512, 512, kernel_size=(3, 3), stride=(1, 1), padding=(1, 1), bias=False)\n",
      "          (1): BatchNorm2d(512, eps=1e-05, momentum=0.1, affine=True, track_running_stats=True)\n",
      "          (2): ReLU()\n",
      "        )\n",
      "      )\n",
      "    )\n",
      "    (6): MaxPool2d(kernel_size=4, stride=4, padding=0, dilation=1, ceil_mode=False)\n",
      "    (7): Flatten(start_dim=1, end_dim=-1)\n",
      "    (8): Linear(in_features=512, out_features=10, bias=True)\n",
      "  )\n",
      ")\n"
     ]
    }
   ],
   "source": [
    "# Model\n",
    "device = \"cuda\" if torch.cuda.is_available() else \"cpu\"\n",
    "print(\"Using {} device\".format(device))\n",
    "model = ResNet().to(device)\n",
    "print(model)"
   ]
  },
  {
   "cell_type": "code",
   "execution_count": 5,
   "metadata": {},
   "outputs": [
    {
     "name": "stdout",
     "output_type": "stream",
     "text": [
      "\n",
      " =============== Epoch 1 ===============\n",
      " Train accuracy: 39.7%, Avg loss: 1.865037\n",
      " Test accuracy: 51.3%, Avg loss: 1.477403\n",
      "\n",
      " =============== Epoch 2 ===============\n",
      " Train accuracy: 54.9%, Avg loss: 1.420954\n",
      " Test accuracy: 56.0%, Avg loss: 1.578295\n",
      "\n",
      " =============== Epoch 3 ===============\n",
      " Train accuracy: 63.9%, Avg loss: 1.169377\n",
      " Test accuracy: 69.5%, Avg loss: 0.893781\n",
      "\n",
      " =============== Epoch 4 ===============\n",
      " Train accuracy: 72.7%, Avg loss: 0.846447\n",
      " Test accuracy: 70.9%, Avg loss: 0.906096\n",
      "\n",
      " =============== Epoch 5 ===============\n",
      " Train accuracy: 77.8%, Avg loss: 0.669921\n",
      " Test accuracy: 74.7%, Avg loss: 0.786686\n",
      "\n",
      " =============== Epoch 6 ===============\n",
      " Train accuracy: 81.3%, Avg loss: 0.552941\n",
      " Test accuracy: 78.0%, Avg loss: 0.679884\n",
      "\n",
      " =============== Epoch 7 ===============\n",
      " Train accuracy: 83.1%, Avg loss: 0.494390\n",
      " Test accuracy: 80.9%, Avg loss: 0.577752\n",
      "\n",
      " =============== Epoch 8 ===============\n",
      " Train accuracy: 85.5%, Avg loss: 0.427091\n",
      " Test accuracy: 81.9%, Avg loss: 0.541461\n",
      "\n",
      " =============== Epoch 9 ===============\n",
      " Train accuracy: 86.6%, Avg loss: 0.385178\n",
      " Test accuracy: 77.4%, Avg loss: 0.715706\n",
      "\n",
      " =============== Epoch 10 ===============\n",
      " Train accuracy: 88.0%, Avg loss: 0.351034\n",
      " Test accuracy: 81.7%, Avg loss: 0.559802\n",
      "\n",
      " =============== Epoch 11 ===============\n",
      " Train accuracy: 89.1%, Avg loss: 0.316601\n",
      " Test accuracy: 81.7%, Avg loss: 0.627676\n",
      "\n",
      " =============== Epoch 12 ===============\n",
      " Train accuracy: 90.0%, Avg loss: 0.287042\n",
      " Test accuracy: 82.1%, Avg loss: 0.587932\n",
      "\n",
      " =============== Epoch 13 ===============\n",
      " Train accuracy: 91.1%, Avg loss: 0.253381\n",
      " Test accuracy: 86.4%, Avg loss: 0.416243\n",
      "\n",
      " =============== Epoch 14 ===============\n",
      " Train accuracy: 92.2%, Avg loss: 0.223018\n",
      " Test accuracy: 86.9%, Avg loss: 0.398416\n",
      "\n",
      " =============== Epoch 15 ===============\n",
      " Train accuracy: 93.1%, Avg loss: 0.194700\n",
      " Test accuracy: 87.0%, Avg loss: 0.418709\n",
      "\n",
      " =============== Epoch 16 ===============\n",
      " Train accuracy: 94.6%, Avg loss: 0.152340\n",
      " Test accuracy: 89.5%, Avg loss: 0.327488\n",
      "\n",
      " =============== Epoch 17 ===============\n",
      " Train accuracy: 95.8%, Avg loss: 0.120531\n",
      " Test accuracy: 90.5%, Avg loss: 0.313322\n",
      "\n",
      " =============== Epoch 18 ===============\n",
      " Train accuracy: 97.3%, Avg loss: 0.080667\n",
      " Test accuracy: 91.6%, Avg loss: 0.285918\n",
      "\n",
      " =============== Epoch 19 ===============\n",
      " Train accuracy: 98.1%, Avg loss: 0.059222\n",
      " Test accuracy: 92.0%, Avg loss: 0.273288\n",
      "\n",
      " =============== Epoch 20 ===============\n",
      " Train accuracy: 98.7%, Avg loss: 0.047038\n",
      " Test accuracy: 92.2%, Avg loss: 0.266002\n"
     ]
    },
    {
     "data": {
      "image/png": "[encoded data removed]",
      "text/plain": [
       "<Figure size 432x288 with 1 Axes>"
      ]
     },
     "metadata": {
      "needs_background": "light"
     },
     "output_type": "display_data"
    },
    {
     "data": {
      "image/png": "[encoded data removed]",
      "text/plain": [
       "<Figure size 432x288 with 1 Axes>"
      ]
     },
     "metadata": {
      "needs_background": "light"
     },
     "output_type": "display_data"
    },
    {
     "name": "stdout",
     "output_type": "stream",
     "text": [
      "Best test accuracy: 92.21\n"
     ]
    }
   ],
   "source": [
    "# Total training epochs\n",
    "epochs = 20\n",
    "\n",
    "# Loss function\n",
    "loss_fn = nn.CrossEntropyLoss()\n",
    "\n",
    "# SGD Optimizer\n",
    "optimizer = torch.optim.SGD(\n",
    "    model.parameters(), lr=0.01, weight_decay=5e-4, momentum=0.9)\n",
    "\n",
    "scheduler = torch.optim.lr_scheduler.OneCycleLR(\n",
    "    optimizer,\n",
    "    0.1,\n",
    "    epochs=epochs,\n",
    "    steps_per_epoch=len(train_dataloader),\n",
    ")\n",
    "\n",
    "run(model, epochs, optimizer, loss_fn, train_dataloader=train_dataloader,\n",
    "    test_dataloader=test_dataloader, scheduler=scheduler)"
   ]
  }
 ],
 "metadata": {
  "interpreter": {
   "hash": "39a2d4910df682aa9922790387742797d4d7a07d73b97f20ec05364ed06a3619"
  },
  "kernelspec": {
   "display_name": "Python 3",
   "language": "python",
   "name": "python3"
  },
  "language_info": {
   "codemirror_mode": {
    "name": "ipython",
    "version": 3
   },
   "file_extension": ".py",
   "mimetype": "text/x-python",
   "name": "python",
   "nbconvert_exporter": "python",
   "pygments_lexer": "ipython3",
   "version": "3.8.8"
  }
 },
 "nbformat": 4,
 "nbformat_minor": 2
}
