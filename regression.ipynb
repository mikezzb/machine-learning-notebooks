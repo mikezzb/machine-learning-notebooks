{
 "cells": [
  {
   "cell_type": "markdown",
   "source": [
    "# Regression"
   ],
   "metadata": {}
  },
  {
   "cell_type": "markdown",
   "source": [
    "## Linear Regression"
   ],
   "metadata": {}
  },
  {
   "cell_type": "code",
   "execution_count": 1,
   "source": [
    "# Import deps\n",
    "import numpy as np\n",
    "from sklearn.linear_model import LinearRegression as lr\n",
    "from sklearn.metrics import mean_squared_error, r2_score\n",
    "import matplotlib.pyplot as plt"
   ],
   "outputs": [],
   "metadata": {}
  },
  {
   "cell_type": "code",
   "execution_count": 2,
   "source": [
    "# Input training data\n",
    "X_train = np.array([\n",
    "    5.86, 1.34, 3.65, 4.69, 4.13,\n",
    "    5.87, 7.91, 5.57, 7.30, 7.89\n",
    "    ]).reshape(-1, 1)\n",
    "y_train = np.array([\n",
    "    0.74, 1.18, 0.51, -0.48, -0.07,\n",
    "    0.37, 1.35, 0.30, 1.64, 1.75\n",
    "    ])\n",
    "\n",
    "X_test = np.array([\n",
    "    5.80, 0.57, 4.3, 6.55, 0.82,\n",
    "    3.72, 5.8, 3.26, 6.75, 4.77\n",
    "    ]).reshape(-1, 1)\n",
    "y_test = np.array([\n",
    "    0.93, 1.87, -0.06, 1.6, 1.22,\n",
    "    0.9, 0.93, 1.53, 1.73, -0.51\n",
    "    ])"
   ],
   "outputs": [],
   "metadata": {}
  },
  {
   "cell_type": "code",
   "execution_count": 3,
   "source": [
    "# Linear Regression Model\n",
    "regr = lr()\n",
    "regr.fit(X_train, y_train)"
   ],
   "outputs": [
    {
     "output_type": "execute_result",
     "data": {
      "text/plain": [
       "LinearRegression()"
      ]
     },
     "metadata": {},
     "execution_count": 3
    }
   ],
   "metadata": {}
  },
  {
   "cell_type": "code",
   "execution_count": 4,
   "source": [
    "# Predict\n",
    "y_pred = regr.predict(X_test)\n",
    "y_train_pred = regr.predict(X_train)"
   ],
   "outputs": [],
   "metadata": {}
  },
  {
   "cell_type": "code",
   "execution_count": 5,
   "source": [
    "from mlxtend.evaluate import bias_variance_decomp\n",
    "\n",
    "def print_info(model, y_test, y_pred):\n",
    "    print(f'x_mean: {np.mean(X_train)} y_mean: {np.mean(y_train)}')\n",
    "    # The coefficients\n",
    "    print(f'Coefficients: {model.coef_} Intercept: {model.intercept_}')\n",
    "    # The mean squared error\n",
    "    print('Mean squared error: %.2f'\n",
    "        % mean_squared_error(y_test, y_pred))\n",
    "    # The coefficient of determination: 1 is perfect prediction\n",
    "    print('Coefficient of determination: %.2f'\n",
    "        % r2_score(y_test, y_pred))\n",
    "    mse, bias, var = bias_variance_decomp(model, X_train, y_train, X_test, y_test, loss='mse', num_rounds=2000)\n",
    "    print(f'Accuracy (bias): {bias} Precision (variance): {var} MSE: {mse}')\n",
    "\n",
    "    print(y_pred)\n",
    "\n",
    "print_info(regr, y_test, y_pred)"
   ],
   "outputs": [
    {
     "output_type": "stream",
     "name": "stdout",
     "text": [
      "x_mean: 5.420999999999999 y_mean: 0.729\n",
      "Coefficients: [0.15748272] Intercept: -0.12471381723758779\n",
      "Mean squared error: 0.94\n",
      "Coefficient of determination: -0.74\n",
      "Accuracy (bias): 1.1680105576764876 Precision (variance): 0.2852742955202107 MSE: 1.4532848531966993\n",
      "[ 0.78868595 -0.03494867  0.55246187  0.90679799  0.00442201  0.4611219\n",
      "  0.78868595  0.38867985  0.93829453  0.62647875]\n"
     ]
    }
   ],
   "metadata": {}
  },
  {
   "cell_type": "code",
   "execution_count": 6,
   "source": [
    "# Plot\n",
    "plt.scatter(X_test, y_test, color='black', alpha=0.2)\n",
    "plt.scatter(X_train, y_train, color='red')\n",
    "plt.scatter(X_train, y_train_pred, color='green')\n",
    "plt.plot(X_train, y_train_pred, color='blue', linewidth=3)\n",
    "\n",
    "plt.xticks()\n",
    "plt.yticks()\n",
    "\n",
    "plt.show()\n",
    "plt.close()"
   ],
   "outputs": [
    {
     "output_type": "display_data",
     "data": {
      "image/png": "[encoded data removed]",
      "text/plain": [
       "<Figure size 432x288 with 1 Axes>"
      ]
     },
     "metadata": {
      "needs_background": "light"
     }
    }
   ],
   "metadata": {}
  },
  {
   "cell_type": "markdown",
   "source": [
    "## Polynomial Regression"
   ],
   "metadata": {}
  },
  {
   "cell_type": "code",
   "execution_count": 7,
   "source": [
    "from sklearn.preprocessing import PolynomialFeatures\n",
    "from sklearn.pipeline import Pipeline"
   ],
   "outputs": [],
   "metadata": {}
  },
  {
   "cell_type": "code",
   "execution_count": 8,
   "source": [
    "degree = 4\n",
    "polyregr = Pipeline([\n",
    "    ('poly', PolynomialFeatures(degree)),\n",
    "    ['regr', lr()]\n",
    "    ])\n",
    "polyregr.fit(X_train,y_train)"
   ],
   "outputs": [
    {
     "output_type": "execute_result",
     "data": {
      "text/plain": [
       "Pipeline(steps=[('poly', PolynomialFeatures(degree=4)),\n",
       "                ['regr', LinearRegression()]])"
      ]
     },
     "metadata": {},
     "execution_count": 8
    }
   ],
   "metadata": {}
  },
  {
   "cell_type": "code",
   "execution_count": 9,
   "source": [
    "poly_train_pred = polyregr.predict(X_train)\n",
    "poly_test_pred = polyregr.predict(X_test)\n",
    "print(poly_train_pred)\n",
    "poly_regr = polyregr['regr']\n",
    "print(f'Coefficients: {poly_regr.coef_} Intercept: {poly_regr.intercept_}')"
   ],
   "outputs": [
    {
     "output_type": "stream",
     "name": "stdout",
     "text": [
      "[ 0.46706374  1.18710559  0.37378184 -0.21075891 -0.02564161  0.47769879\n",
      "  1.49117831  0.18497421  1.82450312  1.52009492]\n",
      "Coefficients: [ 0.         10.91680274 -4.60513795  0.73170903 -0.03884038] Intercept: -6.807764064385664\n"
     ]
    }
   ],
   "metadata": {}
  },
  {
   "cell_type": "code",
   "execution_count": 10,
   "source": [
    "# Sort the data to plot quad line\n",
    "xp, yp = zip(*sorted(zip(X_train, poly_train_pred)))"
   ],
   "outputs": [],
   "metadata": {}
  },
  {
   "cell_type": "code",
   "execution_count": 11,
   "source": [
    "plt.scatter(X_test, y_test, color='black', alpha=0.2)\n",
    "plt.scatter(X_train, y_train,  color='red')\n",
    "plt.scatter(xp, yp,  color='green')\n",
    "plt.plot(xp, yp, color='blue', linewidth=3)\n",
    "plt.xticks()\n",
    "plt.yticks()\n",
    "\n",
    "plt.show()"
   ],
   "outputs": [
    {
     "output_type": "display_data",
     "data": {
      "image/png": "[encoded data removed]",
      "text/plain": [
       "<Figure size 432x288 with 1 Axes>"
      ]
     },
     "metadata": {
      "needs_background": "light"
     }
    }
   ],
   "metadata": {}
  },
  {
   "cell_type": "markdown",
   "source": [
    "## Bias-Variance Tradeoff"
   ],
   "metadata": {}
  },
  {
   "cell_type": "code",
   "execution_count": null,
   "source": [],
   "outputs": [],
   "metadata": {}
  },
  {
   "cell_type": "markdown",
   "source": [
    "## Regression General Solution"
   ],
   "metadata": {}
  },
  {
   "cell_type": "markdown",
   "source": [
    "$$\\Theta = (X^TX)^{-1}X^TY$$"
   ],
   "metadata": {}
  },
  {
   "cell_type": "code",
   "execution_count": 12,
   "source": [
    "def analytic_solution(X, y):\n",
    "    return np.linalg.inv(X.T @ X) @ X.T @ y\n",
    "\n",
    "def make_polynomial_data_mat(X, degree=1):\n",
    "    X = np.insert(X, 0, np.ones(X.shape[0]), axis=1)\n",
    "    for i in range(1, degree):\n",
    "        X = np.insert(X, i + 1, np.power(np.ndarray.flatten(X_train), i + 1), axis=1)\n",
    "    return X"
   ],
   "outputs": [],
   "metadata": {}
  },
  {
   "cell_type": "code",
   "execution_count": 13,
   "source": [
    "degrees = [1, 2, 4]\n",
    "\n",
    "for deg in degrees:\n",
    "    solution = analytic_solution(make_polynomial_data_mat(X_train, deg), y_train)\n",
    "    print(f'degree {deg} params: {solution}')"
   ],
   "outputs": [
    {
     "output_type": "stream",
     "name": "stdout",
     "text": [
      "degree 1 params: [-0.12471382  0.15748272]\n",
      "degree 2 params: [ 2.38902063 -1.07370721  0.1252789 ]\n",
      "degree 4 params: [-6.80776406 10.91680274 -4.60513795  0.73170903 -0.03884038]\n"
     ]
    }
   ],
   "metadata": {}
  },
  {
   "cell_type": "markdown",
   "source": [
    "## Ridge"
   ],
   "metadata": {}
  },
  {
   "cell_type": "code",
   "execution_count": 14,
   "source": [
    "from sklearn.linear_model import Ridge"
   ],
   "outputs": [],
   "metadata": {}
  }
 ],
 "metadata": {
  "orig_nbformat": 4,
  "language_info": {
   "name": "python",
   "version": "3.8.10",
   "mimetype": "text/x-python",
   "codemirror_mode": {
    "name": "ipython",
    "version": 3
   },
   "pygments_lexer": "ipython3",
   "nbconvert_exporter": "python",
   "file_extension": ".py"
  },
  "kernelspec": {
   "name": "python3",
   "display_name": "Python 3.8.10 64-bit"
  },
  "interpreter": {
   "hash": "31f2aee4e71d21fbe5cf8b01ff0e069b9275f58929596ceb00d14d90e3e16cd6"
  }
 },
 "nbformat": 4,
 "nbformat_minor": 2
}