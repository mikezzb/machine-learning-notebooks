{
 "cells": [
  {
   "cell_type": "markdown",
   "source": [
    "# Regression"
   ],
   "metadata": {}
  },
  {
   "cell_type": "markdown",
   "source": [
    "## Linear Regression"
   ],
   "metadata": {}
  },
  {
   "cell_type": "code",
   "execution_count": 1,
   "source": [
    "# Import deps\n",
    "import numpy as np\n",
    "from sklearn.linear_model import LinearRegression\n",
    "from sklearn.metrics import mean_squared_error, r2_score\n",
    "import matplotlib.pyplot as plt"
   ],
   "outputs": [],
   "metadata": {}
  },
  {
   "cell_type": "code",
   "execution_count": 2,
   "source": [
    "# Input training data\n",
    "X_train = np.array([\n",
    "    5.86, 1.34, 3.65, 4.69, 4.13,\n",
    "    5.87, 7.91, 5.57, 7.30, 7.89\n",
    "    ]).reshape(-1, 1)\n",
    "y_train = np.array([\n",
    "    0.74, 1.18, 0.51, -0.48, -0.07,\n",
    "    0.37, 1.35, 0.30, 1.64, 1.75\n",
    "    ])\n",
    "\n",
    "X_test = np.array([\n",
    "    5.80, 0.57, 4.3, 6.55, 0.82,\n",
    "    3.72, 5.8, 3.26, 6.75, 4.77\n",
    "    ]).reshape(-1, 1)\n",
    "y_test = np.array([\n",
    "    0.93, 1.87, -0.06, 1.6, 1.22,\n",
    "    0.9, 0.93, 1.53, 1.73, -0.51\n",
    "    ])"
   ],
   "outputs": [],
   "metadata": {}
  },
  {
   "cell_type": "code",
   "execution_count": 3,
   "source": [
    "# Linear Regression Model\n",
    "regr = LinearRegression()\n",
    "regr.fit(X_train, y_train)"
   ],
   "outputs": [
    {
     "output_type": "execute_result",
     "data": {
      "text/plain": [
       "LinearRegression()"
      ]
     },
     "metadata": {},
     "execution_count": 3
    }
   ],
   "metadata": {}
  },
  {
   "cell_type": "code",
   "execution_count": 4,
   "source": [
    "# Predict\n",
    "y_pred = regr.predict(X_test)\n",
    "y_train_pred = regr.predict(X_train)"
   ],
   "outputs": [],
   "metadata": {}
  },
  {
   "cell_type": "code",
   "execution_count": 5,
   "source": [
    "from mlxtend.evaluate import bias_variance_decomp\n",
    "\n",
    "def print_info(model, y_pred):\n",
    "    print(f'x_mean: {np.mean(X_train)} y_mean: {np.mean(y_train)}')\n",
    "    # The coefficients\n",
    "    print(f'Coefficients: {model.coef_} Intercept: {model.intercept_}')\n",
    "    # The mean squared error\n",
    "    print('Mean squared error: %.2f'\n",
    "        % mean_squared_error(y_test, y_pred))\n",
    "    # The coefficient of determination: 1 is perfect prediction\n",
    "    print('Coefficient of determination: %.2f'\n",
    "        % r2_score(y_test, y_pred))\n",
    "    mse, bias, var = bias_variance_decomp(model, X_train, y_train, X_test, y_test, loss='mse', num_rounds=2000)\n",
    "    print(f'Accuracy (bias): {bias} Precision (variance): {var} MSE: {mse}')\n",
    "\n",
    "    print(y_pred)\n",
    "\n",
    "print_info(regr, y_pred)"
   ],
   "outputs": [
    {
     "output_type": "stream",
     "name": "stdout",
     "text": [
      "x_mean: 5.420999999999999 y_mean: 0.729\n",
      "Coefficients: [0.15748272] Intercept: -0.12471381723758779\n",
      "Mean squared error: 0.94\n",
      "Coefficient of determination: -0.74\n",
      "Accuracy (bias): 1.2267556203933772 Precision (variance): 0.29891064533050404 MSE: 1.5256662657238826\n",
      "[ 0.78868595 -0.03494867  0.55246187  0.90679799  0.00442201  0.4611219\n",
      "  0.78868595  0.38867985  0.93829453  0.62647875]\n"
     ]
    }
   ],
   "metadata": {}
  },
  {
   "cell_type": "code",
   "execution_count": 6,
   "source": [
    "# Plot\n",
    "plt.scatter(X_test, y_test, color='black', alpha=0.2)\n",
    "plt.scatter(X_train, y_train, color='red')\n",
    "plt.scatter(X_train, y_train_pred, color='green')\n",
    "plt.plot(X_train, y_train_pred, color='blue', linewidth=3)\n",
    "\n",
    "plt.xticks()\n",
    "plt.yticks()\n",
    "\n",
    "plt.show()"
   ],
   "outputs": [
    {
     "output_type": "display_data",
     "data": {
      "image/png": "[encoded data removed]",
      "text/plain": [
       "<Figure size 432x288 with 1 Axes>"
      ]
     },
     "metadata": {
      "needs_background": "light"
     }
    }
   ],
   "metadata": {}
  },
  {
   "cell_type": "markdown",
   "source": [
    "## Polynomial Regression"
   ],
   "metadata": {}
  },
  {
   "cell_type": "code",
   "execution_count": 7,
   "source": [
    "from sklearn.preprocessing import PolynomialFeatures\n",
    "from sklearn.pipeline import Pipeline"
   ],
   "outputs": [],
   "metadata": {}
  },
  {
   "cell_type": "code",
   "execution_count": 8,
   "source": [
    "degree = 5\n",
    "polyregr = Pipeline([\n",
    "    ('poly', PolynomialFeatures(degree)),\n",
    "    ['regr', LinearRegression()]\n",
    "    ])\n",
    "polyregr.fit(X_train,y_train)"
   ],
   "outputs": [
    {
     "output_type": "execute_result",
     "data": {
      "text/plain": [
       "Pipeline(steps=[('poly', PolynomialFeatures(degree=5)),\n",
       "                ['regr', LinearRegression()]])"
      ]
     },
     "metadata": {},
     "execution_count": 8
    }
   ],
   "metadata": {}
  },
  {
   "cell_type": "code",
   "execution_count": 9,
   "source": [
    "poly_train_pred = polyregr.predict(X_train)\n",
    "poly_test_pred = polyregr.predict(X_test)\n",
    "print(poly_train_pred)\n",
    "print(poly_test_pred)\n",
    "poly_regr = polyregr['regr']\n",
    "print(f'Coefficients: {poly_regr.coef_} Intercept: {poly_regr.intercept_}')"
   ],
   "outputs": [
    {
     "output_type": "stream",
     "name": "stdout",
     "text": [
      "[ 0.56554276  1.17983727  0.53610874 -0.38889875 -0.15047047  0.57744329\n",
      "  1.54101235  0.22749204  1.65451056  1.54742221]\n",
      "[ 0.49421814 -9.64496018 -0.28708333  1.3075993  -4.79096348  0.41006931\n",
      "  0.49421814  1.3636086   1.45937888 -0.37567545]\n",
      "Coefficients: [ 0.00000000e+00  4.11625083e+01 -1.95717092e+01  4.08273543e+00\n",
      " -3.88867809e-01  1.38766021e-02] Intercept: -27.464621631447976\n"
     ]
    }
   ],
   "metadata": {}
  },
  {
   "cell_type": "code",
   "execution_count": 10,
   "source": [
    "# Sort the data to plot quad line\n",
    "xp, yp = zip(*sorted(zip(X_train, poly_train_pred)))"
   ],
   "outputs": [],
   "metadata": {}
  },
  {
   "cell_type": "code",
   "execution_count": 11,
   "source": [
    "plt.scatter(X_test, y_test, color='black', alpha=0.2)\n",
    "plt.scatter(X_train, y_train,  color='red')\n",
    "plt.scatter(xp, yp,  color='green')\n",
    "plt.plot(xp, yp, color='blue', linewidth=3)\n",
    "plt.xticks()\n",
    "plt.yticks()\n",
    "\n",
    "plt.show()"
   ],
   "outputs": [
    {
     "output_type": "display_data",
     "data": {
      "image/png": "[encoded data removed]",
      "text/plain": [
       "<Figure size 432x288 with 1 Axes>"
      ]
     },
     "metadata": {
      "needs_background": "light"
     }
    }
   ],
   "metadata": {}
  },
  {
   "cell_type": "markdown",
   "source": [
    "## Regression Analytic Solution"
   ],
   "metadata": {}
  },
  {
   "cell_type": "markdown",
   "source": [
    "$$\\Theta = (X^TX)^{-1}X^TY$$"
   ],
   "metadata": {}
  },
  {
   "cell_type": "code",
   "execution_count": 12,
   "source": [
    "def analytic_solution(X, y):\n",
    "    return np.linalg.inv(X.T @ X) @ X.T @ y\n",
    "\n",
    "def make_polynomial_data_mat(X, degree=1):\n",
    "    X = np.insert(X, 0, np.ones(X.shape[0]), axis=1)\n",
    "    for i in range(1, degree):\n",
    "        X = np.insert(X, i + 1, np.power(np.ndarray.flatten(X_train), i + 1), axis=1)\n",
    "    return X"
   ],
   "outputs": [],
   "metadata": {}
  },
  {
   "cell_type": "code",
   "execution_count": 13,
   "source": [
    "degrees = [1, 2, 4]\n",
    "\n",
    "for deg in degrees:\n",
    "    solution = analytic_solution(make_polynomial_data_mat(X_train, deg), y_train)\n",
    "    print(f'degree {deg} params: {solution}')"
   ],
   "outputs": [
    {
     "output_type": "stream",
     "name": "stdout",
     "text": [
      "degree 1 params: [-0.12471382  0.15748272]\n",
      "degree 2 params: [ 2.38902063 -1.07370721  0.1252789 ]\n",
      "degree 4 params: [-6.80776406 10.91680274 -4.60513795  0.73170903 -0.03884038]\n"
     ]
    }
   ],
   "metadata": {}
  },
  {
   "cell_type": "markdown",
   "source": [
    "## Ridge"
   ],
   "metadata": {}
  },
  {
   "cell_type": "code",
   "execution_count": 14,
   "source": [
    "from sklearn.linear_model import Ridge"
   ],
   "outputs": [],
   "metadata": {}
  },
  {
   "cell_type": "markdown",
   "source": [
    "## Bias-Variance Tradeoff"
   ],
   "metadata": {}
  },
  {
   "cell_type": "code",
   "execution_count": 15,
   "source": [
    "def bias_var_tradeoff(model):\n",
    "    y_pred = model.predict(X_test)\n",
    "    regr_step = model['regr']\n",
    "    print(f'MSE: {mean_squared_error(y_test, y_pred):.4f} coef: {regr_step.coef_} intercept: {regr_step.intercept_}')\n",
    "    points = np.linspace(0.57, 7.91, 1000).reshape(-1, 1)\n",
    "    plt.scatter(X_test, y_pred)\n",
    "    plt.plot(points, model.predict(points), linewidth=3)\n",
    "    mse, bias, var = bias_variance_decomp(model, X_train, y_train, X_test, y_test, loss='mse')\n",
    "    print(f'Accuracy (bias): {bias} Precision (variance): {var} MSE: {mse}')\n",
    "\n",
    "plt.scatter(X_test, y_test, color='black', alpha=0.2)\n",
    "plt.scatter(X_train, y_train,  color='red')\n",
    "\n",
    "degrees = [1, 2, 4]\n",
    "\n",
    "for degree in degrees:\n",
    "    regr =  Pipeline([\n",
    "            ('poly', PolynomialFeatures(degree)),\n",
    "            ['regr', LinearRegression()]\n",
    "        ])\n",
    "    regr.fit(X_train, y_train)\n",
    "    bias_var_tradeoff(regr)\n",
    "\n",
    "plt.xticks()\n",
    "plt.yticks()\n",
    "plt.show()"
   ],
   "outputs": [
    {
     "output_type": "stream",
     "name": "stdout",
     "text": [
      "MSE: 0.9416 coef: [0.         0.15748272] intercept: -0.1247138172375879\n",
      "Accuracy (bias): 1.1950949259592787 Precision (variance): 0.32831423458815573 MSE: 1.5234091605474338\n",
      "MSE: 0.5013 coef: [ 0.         -1.07370721  0.1252789 ] intercept: 2.3890206306991177\n",
      "Accuracy (bias): 0.5248055354972266 Precision (variance): 0.9577657915453289 MSE: 1.4825713270425558\n",
      "MSE: 1.9504 coef: [ 0.         10.91680274 -4.60513795  0.73170903 -0.03884038] intercept: -6.807764064385664\n",
      "Accuracy (bias): 2472.8543033815954 Precision (variance): 2404883.0466777296 MSE: 2407355.9009811115\n"
     ]
    },
    {
     "output_type": "display_data",
     "data": {
      "image/png": "[encoded data removed]",
      "text/plain": [
       "<Figure size 432x288 with 1 Axes>"
      ]
     },
     "metadata": {
      "needs_background": "light"
     }
    }
   ],
   "metadata": {}
  },
  {
   "cell_type": "markdown",
   "source": [
    "## Logistic Regression"
   ],
   "metadata": {}
  },
  {
   "cell_type": "markdown",
   "source": [
    "### Data"
   ],
   "metadata": {}
  },
  {
   "cell_type": "code",
   "execution_count": 16,
   "source": [
    "X_train = np.array([\n",
    "    [0.346, 0.780],\n",
    "    [0.303, 0.439],\n",
    "    [0.358, 0.729],\n",
    "    [0.602, 0.863],\n",
    "    [0.790, 0.753],\n",
    "    [0.611, 0.965],\n",
    "    ])\n",
    "y_train = np.array([\n",
    "    0, 0, 0,\n",
    "    1, 1, 1\n",
    "    ])\n",
    "\n",
    "X_test = np.array([\n",
    "    [0.959, 0.382],\n",
    "    [0.750, 0.306],\n",
    "    [0.395, 0.760],\n",
    "    [0.823, 0.764],\n",
    "    [0.761, 0.874],\n",
    "    [0.844, 0.435],\n",
    "    ])\n",
    "y_test = np.array([\n",
    "    0, 0, 0,\n",
    "    1, 1, 1\n",
    "    ])\n",
    "\n",
    "m = y_train.shape[0]\n",
    "\n",
    "Theta_0 = np.array([-1, 1.5, 0.5])\n",
    "\n",
    "learning_rate = 0.1\n"
   ],
   "outputs": [],
   "metadata": {}
  },
  {
   "cell_type": "markdown",
   "source": [
    "### Gradient Descent"
   ],
   "metadata": {}
  },
  {
   "cell_type": "code",
   "execution_count": 17,
   "source": [
    "def gradient_descent(obj_fn, grad_fn, Theta, learning_rate=0.4, epsilon=1e-5, iters=10000, verbose=False):\n",
    "    count = 0\n",
    "    Theta_prev = np.inf * np.ones_like(Theta)\n",
    "    converge = lambda prev, curr: abs(prev - curr) < epsilon\n",
    "    while not converge(obj_fn(Theta_prev), obj_fn(Theta)):\n",
    "        Theta_prev = Theta\n",
    "        print(grad_fn(Theta))\n",
    "        Theta = Theta - learning_rate * grad_fn(Theta)\n",
    "        count += 1\n",
    "        if verbose:\n",
    "            print(f'Iter #{count}, Theta: {Theta} obj(Theta): {obj_fn(Theta)} obj(Prev): {obj_fn(Theta_prev)}')\n",
    "        \n",
    "        print(f'count {count} iters {iters}')\n",
    "        if count >= iters:\n",
    "            print(f'Failed to converge in {iters} iters')\n",
    "            return Theta\n",
    "    \n",
    "    print(f'Converged in {count} steps')\n",
    "    return Theta"
   ],
   "outputs": [],
   "metadata": {}
  },
  {
   "cell_type": "markdown",
   "source": [
    "### Utils"
   ],
   "metadata": {}
  },
  {
   "cell_type": "code",
   "execution_count": 18,
   "source": [
    "sigmoid = lambda z: 1.0 / (1 + np.exp(-z))\n",
    "\n",
    "P = lambda X, Theta: np.clip(sigmoid(X @ Theta), 1e-3, 1 - 1e-3)\n",
    "\n",
    "# Cross-entropy loss\n",
    "ce_loss = lambda X, Theta, Y_true: np.sum(-Y_true * np.log(P(X, Theta)) - (1.0 - Y_true) * np.log(1 - P(X, Theta)))\n",
    "d_ce_loss = lambda X, Theta, Y_true: np.sum((P(X, Theta) - Y_true) * X, axis=0, keepdims=True).T  # Output: column vector\n",
    "\n",
    "def prob2category(prob_ls, threshold = 0.5):\n",
    "    prob_ls = prob_ls.copy()\n",
    "    prob_ls[prob_ls >= threshold] = 1\n",
    "    prob_ls[prob_ls < threshold] = 0\n",
    "    return prob_ls"
   ],
   "outputs": [],
   "metadata": {}
  },
  {
   "cell_type": "markdown",
   "source": [
    "### Model"
   ],
   "metadata": {}
  },
  {
   "cell_type": "code",
   "execution_count": 19,
   "source": [
    "def logistic_regression(X, y, Theta, learning_rate=0.4, iters=10000):\n",
    "    \n",
    "    obj_f = lambda Theta: ce_loss(X, Theta, y)\n",
    "    d_obj_f = lambda Theta: d_ce_loss(X, Theta, y)\n",
    "\n",
    "    # Use gradient descent to find the best model\n",
    "    Theta_optim = gradient_descent(\n",
    "        obj_f,\n",
    "        d_obj_f,\n",
    "        Theta,\n",
    "        learning_rate=learning_rate,\n",
    "        iters=iters,\n",
    "        verbose=True\n",
    "        )\n",
    "        \n",
    "    return Theta_optim\n",
    "\n",
    "def logistic_predict(X, Theta):\n",
    "    prob_ls = P(X, Theta)\n",
    "    return prob2category(prob_ls)"
   ],
   "outputs": [],
   "metadata": {}
  },
  {
   "cell_type": "code",
   "execution_count": 20,
   "source": [
    "def test(X, y):\n",
    "    total = 0\n",
    "    for i in range(m):\n",
    "        total += (sigmoid(X[i].T @ Theta_0[:, np.newaxis]) - y[i]) * X[i]\n",
    "    print(total)"
   ],
   "outputs": [],
   "metadata": {}
  },
  {
   "cell_type": "code",
   "execution_count": 21,
   "source": [
    "X_train_with_bias = make_polynomial_data_mat(X_train)\n",
    "print(X_train_with_bias)\n",
    "test(X_train_with_bias, y_train[:, np.newaxis])\n",
    "Theta_optim = logistic_regression(\n",
    "    X_train_with_bias,\n",
    "    y_train[:, np.newaxis],\n",
    "    Theta_0[:, np.newaxis],\n",
    "    learning_rate,\n",
    "    iters=1\n",
    "    )\n",
    "Theta_optim"
   ],
   "outputs": [
    {
     "output_type": "stream",
     "name": "stdout",
     "text": [
      "[[1.    0.346 0.78 ]\n",
      " [1.    0.303 0.439]\n",
      " [1.    0.358 0.729]\n",
      " [1.    0.602 0.863]\n",
      " [1.    0.79  0.753]\n",
      " [1.    0.611 0.965]]\n",
      "[ 0.18997559 -0.32105177 -0.11812017]\n",
      "[[ 0.18997559]\n",
      " [-0.32105177]\n",
      " [-0.11812017]]\n",
      "Iter #1, Theta: [[-1.01899756]\n",
      " [ 1.53210518]\n",
      " [ 0.51181202]] obj(Theta): 3.326448831508982 obj(Prev): 3.341700478528591\n",
      "count 1 iters 1\n",
      "Failed to converge in 1 iters\n"
     ]
    },
    {
     "output_type": "execute_result",
     "data": {
      "text/plain": [
       "array([[-1.01899756],\n",
       "       [ 1.53210518],\n",
       "       [ 0.51181202]])"
      ]
     },
     "metadata": {},
     "execution_count": 21
    }
   ],
   "metadata": {}
  },
  {
   "cell_type": "code",
   "execution_count": 22,
   "source": [
    "X_test_with_bias = make_polynomial_data_mat(X_test)\n",
    "y_pred = logistic_predict(X_test_with_bias, Theta_optim)\n",
    "y_pred"
   ],
   "outputs": [
    {
     "output_type": "execute_result",
     "data": {
      "text/plain": [
       "array([[1.],\n",
       "       [1.],\n",
       "       [0.],\n",
       "       [1.],\n",
       "       [1.],\n",
       "       [1.]])"
      ]
     },
     "metadata": {},
     "execution_count": 22
    }
   ],
   "metadata": {}
  },
  {
   "cell_type": "markdown",
   "source": [
    "### Scikit-Learn Logistic Regression"
   ],
   "metadata": {}
  },
  {
   "cell_type": "code",
   "execution_count": 23,
   "source": [
    "from sklearn.linear_model import LogisticRegression\n",
    "\n",
    "logreg = LogisticRegression()\n",
    "logreg.fit(X_train, y_train)\n",
    "\n",
    "y_pred_logreg = logreg.predict(X_test)\n",
    "\n",
    "print(f'coef: {logreg.coef_} intercept: {logreg.intercept_}')"
   ],
   "outputs": [
    {
     "output_type": "stream",
     "name": "stdout",
     "text": [
      "coef: [[0.46880084 0.29379191]] intercept: [-0.45698301]\n"
     ]
    }
   ],
   "metadata": {}
  },
  {
   "cell_type": "markdown",
   "source": [
    "Scikit-Learn SDG Classifier"
   ],
   "metadata": {}
  },
  {
   "cell_type": "code",
   "execution_count": 24,
   "source": [
    "from sklearn.linear_model import SGDClassifier\n",
    "\n",
    "sgd = SGDClassifier(\n",
    "    penalty=\"none\",\n",
    "    eta0=learning_rate,\n",
    "    learning_rate=\"constant\",\n",
    "    tol=1e-5,\n",
    "    shuffle=False,\n",
    "    max_iter=10000,\n",
    "    loss=\"log\"\n",
    "    )\n",
    "sgd.fit(X_train, y_train, coef_init=np.array([1.5, 0.5]), intercept_init=-1)\n",
    "\n",
    "y_pred_sgd = sgd.predict(X_test)\n",
    "\n",
    "print(f'coef: {sgd.coef_} intercept: {sgd.intercept_}')"
   ],
   "outputs": [
    {
     "output_type": "stream",
     "name": "stdout",
     "text": [
      "coef: [[20.27043531  5.25130418]] intercept: [-13.99287121]\n"
     ]
    }
   ],
   "metadata": {}
  },
  {
   "cell_type": "markdown",
   "source": [
    "### Data Visualization"
   ],
   "metadata": {}
  },
  {
   "cell_type": "code",
   "execution_count": 25,
   "source": [
    "neg_labels_idx = y_test == 0\n",
    "plt.scatter(X_test[neg_labels_idx, 0], X_test[neg_labels_idx, 1])\n",
    "\n",
    "pos_labels_idx = y_test == 1\n",
    "plt.scatter(X_test[pos_labels_idx, 0], X_test[pos_labels_idx, 1])\n",
    "\n",
    "for i, label in enumerate(y_test):\n",
    "    plt.annotate(label, X_test[i, 0:2], fontsize=12)\n",
    "\n",
    "# Draw decision boundary\n",
    "X_line = [np.min(X_test_with_bias[:, 1]), np.max(X_test_with_bias[:, 2])]\n",
    "y_line = -(Theta_optim[0] + Theta_optim[1] * X_line) / Theta_optim[2]\n",
    "plt.plot(X_line, y_line)\n",
    "\n",
    "plt.xlabel('$x_1$')\n",
    "plt.ylabel('$x_2$')\n",
    "plt.show()"
   ],
   "outputs": [
    {
     "output_type": "display_data",
     "data": {
      "image/png": "[encoded data removed]",
      "text/plain": [
       "<Figure size 432x288 with 1 Axes>"
      ]
     },
     "metadata": {
      "needs_background": "light"
     }
    }
   ],
   "metadata": {}
  },
  {
   "cell_type": "markdown",
   "source": [
    "### Plot Confusion Matrix"
   ],
   "metadata": {}
  },
  {
   "cell_type": "code",
   "execution_count": 26,
   "source": [
    "from sklearn import metrics\n",
    "import seaborn as sns\n",
    "cnf_matrix = metrics.confusion_matrix(y_test, y_pred)\n",
    "sns.heatmap(cnf_matrix, annot=True, cmap=\"YlGnBu\", fmt='d')"
   ],
   "outputs": [
    {
     "output_type": "execute_result",
     "data": {
      "text/plain": [
       "<AxesSubplot:>"
      ]
     },
     "metadata": {},
     "execution_count": 26
    },
    {
     "output_type": "display_data",
     "data": {
      "image/png": "[encoded data removed]",
      "text/plain": [
       "<Figure size 432x288 with 2 Axes>"
      ]
     },
     "metadata": {
      "needs_background": "light"
     }
    }
   ],
   "metadata": {}
  },
  {
   "cell_type": "markdown",
   "source": [
    "### Evaluation"
   ],
   "metadata": {}
  },
  {
   "cell_type": "code",
   "execution_count": 27,
   "source": [
    "cnf_matrix\n",
    "TP, FP, FN, TN = cnf_matrix.flatten()\n",
    "print(f'TP: {TP} FP: {FP} FN: {FN} TN: {TN}')"
   ],
   "outputs": [
    {
     "output_type": "stream",
     "name": "stdout",
     "text": [
      "TP: 1 FP: 2 FN: 0 TN: 3\n"
     ]
    }
   ],
   "metadata": {}
  }
 ],
 "metadata": {
  "orig_nbformat": 4,
  "language_info": {
   "name": "python",
   "version": "3.8.10",
   "mimetype": "text/x-python",
   "codemirror_mode": {
    "name": "ipython",
    "version": 3
   },
   "pygments_lexer": "ipython3",
   "nbconvert_exporter": "python",
   "file_extension": ".py"
  },
  "kernelspec": {
   "name": "python3",
   "display_name": "Python 3.8.10 64-bit"
  },
  "interpreter": {
   "hash": "31f2aee4e71d21fbe5cf8b01ff0e069b9275f58929596ceb00d14d90e3e16cd6"
  }
 },
 "nbformat": 4,
 "nbformat_minor": 2
}