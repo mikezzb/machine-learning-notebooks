{
 "cells": [
  {
   "cell_type": "markdown",
   "metadata": {},
   "source": [
    "# SVM"
   ]
  },
  {
   "cell_type": "markdown",
   "metadata": {},
   "source": [
    "## Linear SVM"
   ]
  },
  {
   "cell_type": "code",
   "execution_count": 1,
   "metadata": {},
   "outputs": [],
   "source": [
    "import numpy as np\n",
    "import matplotlib.pyplot as plt\n",
    "from sklearn import svm"
   ]
  },
  {
   "cell_type": "code",
   "execution_count": 2,
   "metadata": {},
   "outputs": [
    {
     "name": "stdout",
     "output_type": "stream",
     "text": [
      "50\n"
     ]
    }
   ],
   "source": [
    "train_X = np.array([\n",
    "    [6, -8],\n",
    "    [6.5, -9],\n",
    "    [9, -8.5],\n",
    "    [6.5, -9],\n",
    "    [5, -2.5],\n",
    "    [8, -4],\n",
    "    [9.5, -4],\n",
    "    [9, -5],\n",
    "])\n",
    "train_y = np.array([1, 1, 1, 1, -1, -1, -1, -1])\n",
    "\n",
    "test_X = np.array([\n",
    "    [5, -7],\n",
    "    [5.5, -9],\n",
    "    [8, -8],\n",
    "    [9, -8],\n",
    "    [7, -2.5],\n",
    "    [8, -5],\n",
    "    [5, -5],\n",
    "    [6.5, -4],\n",
    "])\n",
    "test_y = np.array([1, 1, 1, 1, -1, -1, -1, -1])\n",
    "\n",
    "import pandas as pd\n",
    "train = pd.read_csv(\"data/SVM/training.csv\")\n",
    "test = pd.read_csv(\"data/SVM/test.csv\")\n",
    "\n",
    "train_X = train[[\"x_1\", \"x_2\"]].values\n",
    "train_y = train[\"y\"].values\n",
    "test_X = test[[\"x_1\", \"x_2\"]].values\n",
    "test_y = test[\"y\"].values\n",
    "\n",
    "m = train_X.shape[0]\n",
    "print(m)"
   ]
  },
  {
   "cell_type": "markdown",
   "metadata": {},
   "source": [
    "### Model"
   ]
  },
  {
   "cell_type": "code",
   "execution_count": 3,
   "metadata": {},
   "outputs": [
    {
     "data": {
      "text/plain": [
       "SVC(kernel='linear')"
      ]
     },
     "execution_count": 3,
     "metadata": {},
     "output_type": "execute_result"
    }
   ],
   "source": [
    "clf = svm.SVC(kernel='linear')\n",
    "clf.fit(train_X, train_y)"
   ]
  },
  {
   "cell_type": "code",
   "execution_count": 4,
   "metadata": {},
   "outputs": [
    {
     "name": "stdout",
     "output_type": "stream",
     "text": [
      "alpha: [1.         1.         1.         1.         0.         1.\n",
      " 1.         1.         0.         1.         1.         0.\n",
      " 1.         1.         0.24879375 1.         1.         1.\n",
      " 1.         1.         1.         1.         1.         1.\n",
      " 1.         1.         0.         1.         0.         0.\n",
      " 1.         1.         1.         1.         1.         1.\n",
      " 1.         1.         0.         1.         0.33132433 1.\n",
      " 1.         1.         0.         0.08253057 0.         1.\n",
      " 1.         1.        ]\n",
      "w: [[ 1.2586557  -0.65060527]], intercept: [0.58565512]\n",
      "support vectors with idx [ 0  3  7  9 12 13 14 15 16 17 23 24 32 34 35 41 43 45 47 48 49  1  2  5\n",
      "  6 10 18 19 20 21 22 25 27 30 31 33 36 37 39 40 42]:\n",
      "[[-1.01304     0.22403   ]\n",
      " [-0.199606   -0.739134  ]\n",
      " [-0.217446   -0.928847  ]\n",
      " [ 0.789017    0.229591  ]\n",
      " [ 0.492747   -0.785446  ]\n",
      " [-0.389211   -1.1152    ]\n",
      " [-0.51606     1.43867   ]\n",
      " [-0.480439    0.68961   ]\n",
      " [ 0.0101564   1.24418   ]\n",
      " [ 1.06694     1.07705   ]\n",
      " [ 0.0919864  -0.711049  ]\n",
      " [-0.146962    0.785572  ]\n",
      " [ 0.774146    0.355891  ]\n",
      " [ 1.3895      0.580663  ]\n",
      " [ 0.115415    0.760403  ]\n",
      " [-1.12362    -0.118463  ]\n",
      " [-1.26392    -0.693551  ]\n",
      " [-1.00292     0.497041  ]\n",
      " [-0.73547     0.228301  ]\n",
      " [ 1.15173     0.685645  ]\n",
      " [-0.557667   -0.503242  ]\n",
      " [-0.0925767   0.273099  ]\n",
      " [ 0.0384835  -0.0270778 ]\n",
      " [ 0.227599   -0.036495  ]\n",
      " [ 0.18683     0.0713752 ]\n",
      " [ 0.163863    0.038183  ]\n",
      " [ 0.186006    0.0910513 ]\n",
      " [ 0.125187    0.125823  ]\n",
      " [-0.274354   -0.132735  ]\n",
      " [-0.123157    0.128739  ]\n",
      " [ 0.210429    0.0467005 ]\n",
      " [-0.0773878   0.0583819 ]\n",
      " [ 0.328244    0.244338  ]\n",
      " [ 0.0123762  -0.124215  ]\n",
      " [-0.292794    0.436657  ]\n",
      " [-0.081338   -0.189539  ]\n",
      " [-0.292186   -0.431654  ]\n",
      " [-0.0450525   0.00917491]\n",
      " [ 0.219407    0.268144  ]\n",
      " [ 0.21168    -0.227264  ]\n",
      " [ 0.312035    0.239699  ]]\n"
     ]
    }
   ],
   "source": [
    "\"\"\"\n",
    "clf.dual_coef_[i] = labels[i] * alphas[i]\n",
    "where labels[i] is either -1 or +1 and alphas[i] are always positive.\n",
    "\"\"\"\n",
    "alpha = np.zeros((m,))\n",
    "alpha[clf.support_] = np.abs(clf.dual_coef_)\n",
    "print(f\"alpha: {alpha}\")\n",
    "print(f\"w: {clf.coef_}, intercept: {clf.intercept_}\")\n",
    "print(f\"support vectors with idx {clf.support_}:\\n{clf.support_vectors_}\")"
   ]
  },
  {
   "cell_type": "code",
   "execution_count": 5,
   "metadata": {},
   "outputs": [
    {
     "name": "stdout",
     "output_type": "stream",
     "text": [
      "w:[0.80174843 1.01435192], equal=[[False False]]\n",
      "b:inf, equal=[False]\n"
     ]
    },
    {
     "name": "stderr",
     "output_type": "stream",
     "text": [
      "<ipython-input-5-6a9b10aa344f>:5: RuntimeWarning: divide by zero encountered in long_scalars\n",
      "  b = sum((1 / y[idx] - w.T @ x_s) for idx, x_s in zip(clf.support_, clf.support_vectors_)) / S_len\n"
     ]
    }
   ],
   "source": [
    "# analytical solution\n",
    "def optimal_solution(X, y, alpha):\n",
    "    w = sum((alpha[i] * y[i] * X[i]) for i in range(m))\n",
    "    S_len = clf.support_.shape[0]\n",
    "    b = sum((1 / y[idx] - w.T @ x_s) for idx, x_s in zip(clf.support_, clf.support_vectors_)) / S_len\n",
    "    return (w, b)\n",
    "w_test, b_test = optimal_solution(train_X, train_y, alpha)\n",
    "print(f'w:{w_test}, equal={np.isclose(clf.coef_, w_test)}\\nb:{b_test}, equal={np.isclose(clf.intercept_, b_test)}')"
   ]
  },
  {
   "cell_type": "markdown",
   "metadata": {},
   "source": [
    "### Test Set"
   ]
  },
  {
   "cell_type": "code",
   "execution_count": 6,
   "metadata": {},
   "outputs": [
    {
     "name": "stdout",
     "output_type": "stream",
     "text": [
      "[1 1 1 0 0 0 0 1 1 1 1 1 1 1 1 1 1 1 1 1 0 0 0 1 1 1 1 0 1 1 1 1 1 1 1 1 1\n",
      " 1 1 1 1 1 1 1 1 0 1 1 1 1]\n"
     ]
    }
   ],
   "source": [
    "test_pred = clf.predict(test_X)\n",
    "print(test_pred)"
   ]
  },
  {
   "cell_type": "code",
   "execution_count": 7,
   "metadata": {},
   "outputs": [
    {
     "name": "stdout",
     "output_type": "stream",
     "text": [
      "[inf inf inf inf inf inf inf inf inf inf inf inf inf inf inf inf inf inf\n",
      " inf inf inf inf inf inf inf inf inf inf inf inf inf inf inf inf inf inf\n",
      " inf inf inf inf inf inf inf inf inf inf inf inf inf inf]\n",
      "[1. 1. 1. 1. 1. 1. 1. 1. 1. 1. 1. 1. 1. 1. 1. 1. 1. 1. 1. 1. 1. 1. 1. 1.\n",
      " 1. 1. 1. 1. 1. 1. 1. 1. 1. 1. 1. 1. 1. 1. 1. 1. 1. 1. 1. 1. 1. 1. 1. 1.\n",
      " 1. 1.]\n"
     ]
    }
   ],
   "source": [
    "def linear_svm_predict(X: np.array):\n",
    "    raw = np.apply_along_axis(lambda x: w_test.T @ x + b_test, axis=1, arr=X)\n",
    "    print(raw)\n",
    "    return np.sign(raw)\n",
    "print(linear_svm_predict(test_X))"
   ]
  },
  {
   "cell_type": "markdown",
   "metadata": {},
   "source": [
    "### Evaluation"
   ]
  },
  {
   "cell_type": "code",
   "execution_count": 8,
   "metadata": {},
   "outputs": [
    {
     "data": {
      "text/plain": [
       "0.62"
      ]
     },
     "execution_count": 8,
     "metadata": {},
     "output_type": "execute_result"
    }
   ],
   "source": [
    "clf.score(test_X, test_y)"
   ]
  },
  {
   "cell_type": "markdown",
   "metadata": {},
   "source": [
    "### Plot"
   ]
  },
  {
   "cell_type": "code",
   "execution_count": 9,
   "metadata": {},
   "outputs": [],
   "source": [
    "def plot_svc_decision_function(model, ax=None, plot_support=True):\n",
    "    \"\"\"Plot the decision function for a 2D SVC\"\"\"\n",
    "    if ax is None:\n",
    "        ax = plt.gca()\n",
    "    xlim = ax.get_xlim()\n",
    "    ylim = ax.get_ylim()\n",
    "    \n",
    "    # create grid to evaluate model\n",
    "    x = np.linspace(xlim[0], xlim[1], 30)\n",
    "    y = np.linspace(ylim[0], ylim[1], 30)\n",
    "    Y, X = np.meshgrid(y, x)\n",
    "    xy = np.vstack([X.ravel(), Y.ravel()]).T\n",
    "    P = model.decision_function(xy).reshape(X.shape)\n",
    "    \n",
    "    # plot decision boundary and margins\n",
    "    ax.contour(X, Y, P, colors='k',\n",
    "               levels=[-1, 0, 1], alpha=0.5,\n",
    "               linestyles=['--', '-', '--'])\n",
    "    \n",
    "    # plot support vectors\n",
    "    if plot_support:\n",
    "        ax.scatter(model.support_vectors_[:, 0],\n",
    "                    model.support_vectors_[:, 1],\n",
    "                    s=100, linewidth=1, facecolors='none',edgecolors='k')\n",
    "    ax.set_xlim(xlim)\n",
    "    ax.set_ylim(ylim)"
   ]
  },
  {
   "cell_type": "code",
   "execution_count": 10,
   "metadata": {},
   "outputs": [
    {
     "data": {
      "image/png": "[encoded data removed]",
      "text/plain": [
       "<Figure size 432x288 with 1 Axes>"
      ]
     },
     "metadata": {
      "needs_background": "light"
     },
     "output_type": "display_data"
    }
   ],
   "source": [
    "plt.scatter(train_X[:, 0], train_X[:, 1], c=train_y, s=50, cmap=plt.cm.Paired)\n",
    "plot_svc_decision_function(clf, plot_support=True)"
   ]
  },
  {
   "cell_type": "markdown",
   "metadata": {},
   "source": [
    "## Kernel & Soft Margin SVM"
   ]
  },
  {
   "cell_type": "markdown",
   "metadata": {},
   "source": [
    "The SVM model uses a 2-degree polynomial kernel, and a regularization parameter C=1 for the soft-margin penalty item.\n",
    "\n",
    "The kernel function is chosen by observing the data shape in scatter plot, and C is determined from testing.\n",
    "\n",
    "The SVM model achieved 92% accuracy on the test set."
   ]
  },
  {
   "cell_type": "markdown",
   "metadata": {},
   "source": [
    "### Data"
   ]
  },
  {
   "cell_type": "code",
   "execution_count": 11,
   "metadata": {},
   "outputs": [],
   "source": [
    "import pandas as pd\n",
    "\n",
    "train = pd.read_csv(\"data/SVM/training.csv\")\n",
    "test = pd.read_csv(\"data/SVM/test.csv\")\n",
    "\n",
    "train_X = train[[\"x_1\", \"x_2\"]].values\n",
    "train_y = train[\"y\"].values\n",
    "test_X = test[[\"x_1\", \"x_2\"]].values\n",
    "test_y = test[\"y\"].values"
   ]
  },
  {
   "cell_type": "markdown",
   "metadata": {},
   "source": [
    "### Model"
   ]
  },
  {
   "cell_type": "code",
   "execution_count": 12,
   "metadata": {},
   "outputs": [
    {
     "name": "stdout",
     "output_type": "stream",
     "text": [
      "Best C is 0.2 with score 0.92\n"
     ]
    }
   ],
   "source": [
    "best_C = 1\n",
    "best_score = 0\n",
    "for C in np.arange(0.1, 10, 0.1):\n",
    "    clf = svm.SVC(kernel='poly', degree=2, C=C).fit(train_X, train_y)\n",
    "    score = clf.score(test_X, test_y)\n",
    "    if score > best_score:\n",
    "        best_C = C\n",
    "        best_score = score\n",
    "print(f'Best C is {best_C} with score {best_score}')"
   ]
  },
  {
   "cell_type": "code",
   "execution_count": 13,
   "metadata": {},
   "outputs": [
    {
     "data": {
      "text/plain": [
       "SVC(C=0.2, degree=2, kernel='poly')"
      ]
     },
     "execution_count": 13,
     "metadata": {},
     "output_type": "execute_result"
    }
   ],
   "source": [
    "clf = svm.SVC(kernel='poly', degree=2, C=best_C)\n",
    "clf.fit(train_X, train_y)"
   ]
  },
  {
   "cell_type": "markdown",
   "metadata": {},
   "source": [
    "### Plot"
   ]
  },
  {
   "cell_type": "code",
   "execution_count": 14,
   "metadata": {},
   "outputs": [],
   "source": [
    "def plot_svc_decision_function(model, ax=None, plot_support=True):\n",
    "    \"\"\"Plot the decision function for a 2D SVC\"\"\"\n",
    "    if ax is None:\n",
    "        ax = plt.gca()\n",
    "    xlim = ax.get_xlim()\n",
    "    ylim = ax.get_ylim()\n",
    "    \n",
    "    # create grid to evaluate model\n",
    "    x = np.linspace(xlim[0], xlim[1], 30)\n",
    "    y = np.linspace(ylim[0], ylim[1], 30)\n",
    "    Y, X = np.meshgrid(y, x)\n",
    "    xy = np.vstack([X.ravel(), Y.ravel()]).T\n",
    "    P = model.decision_function(xy).reshape(X.shape)\n",
    "    \n",
    "    # plot decision boundary and margins\n",
    "    ax.contour(X, Y, P, colors='k',\n",
    "               levels=[-1, 0, 1], alpha=0.5,\n",
    "               linestyles=['--', '-', '--'])\n",
    "    \n",
    "    # plot support vectors\n",
    "    if plot_support:\n",
    "        ax.scatter(model.support_vectors_[:, 0],\n",
    "                    model.support_vectors_[:, 1],\n",
    "                    s=100, linewidth=1, facecolors='none',edgecolors='k')\n",
    "    ax.set_xlim(xlim)\n",
    "    ax.set_ylim(ylim)"
   ]
  },
  {
   "cell_type": "code",
   "execution_count": 15,
   "metadata": {},
   "outputs": [
    {
     "data": {
      "image/png": "[encoded data removed]",
      "text/plain": [
       "<Figure size 432x288 with 1 Axes>"
      ]
     },
     "metadata": {
      "needs_background": "light"
     },
     "output_type": "display_data"
    }
   ],
   "source": [
    "# Plot train and test data\n",
    "plt.scatter(train_X[:, 0], train_X[:, 1], c=train_y, s=50, cmap=plt.cm.Paired)\n",
    "plt.scatter(test_X[:, 0], test_X[:, 1], c=test_y, s=50, cmap=plt.cm.Spectral)\n",
    "\n",
    "# Plot decision function\n",
    "plot_svc_decision_function(clf, plot_support=True)"
   ]
  },
  {
   "cell_type": "markdown",
   "metadata": {},
   "source": [
    "### Evaluation"
   ]
  },
  {
   "cell_type": "code",
   "execution_count": 16,
   "metadata": {},
   "outputs": [
    {
     "name": "stdout",
     "output_type": "stream",
     "text": [
      "Accuracy: 0.92\n"
     ]
    }
   ],
   "source": [
    "print(f'Accuracy: {clf.score(test_X, test_y)}')"
   ]
  }
 ],
 "metadata": {
  "interpreter": {
   "hash": "31f2aee4e71d21fbe5cf8b01ff0e069b9275f58929596ceb00d14d90e3e16cd6"
  },
  "kernelspec": {
   "display_name": "Python 3.8.10 64-bit",
   "name": "python3"
  },
  "language_info": {
   "codemirror_mode": {
    "name": "ipython",
    "version": 3
   },
   "file_extension": ".py",
   "mimetype": "text/x-python",
   "name": "python",
   "nbconvert_exporter": "python",
   "pygments_lexer": "ipython3",
   "version": "3.8.10"
  },
  "orig_nbformat": 4
 },
 "nbformat": 4,
 "nbformat_minor": 2
}
