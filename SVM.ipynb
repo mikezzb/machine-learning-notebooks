{
 "cells": [
  {
   "cell_type": "markdown",
   "metadata": {},
   "source": [
    "# SVM"
   ]
  },
  {
   "cell_type": "markdown",
   "metadata": {},
   "source": [
    "## Linear SVM"
   ]
  },
  {
   "cell_type": "code",
   "execution_count": 1,
   "metadata": {},
   "outputs": [],
   "source": [
    "import numpy as np\n",
    "import matplotlib.pyplot as plt\n",
    "from sklearn import svm"
   ]
  },
  {
   "cell_type": "code",
   "execution_count": 2,
   "metadata": {},
   "outputs": [
    {
     "name": "stdout",
     "output_type": "stream",
     "text": [
      "8\n"
     ]
    }
   ],
   "source": [
    "train_X = np.array([\n",
    "    [6, -8],\n",
    "    [6.5, -9],\n",
    "    [9, -8.5],\n",
    "    [6.5, -9],\n",
    "    [5, -2.5],\n",
    "    [8, -4],\n",
    "    [9.5, -4],\n",
    "    [9, -5],\n",
    "])\n",
    "train_y = np.array([1, 1, 1, 1, -1, -1, -1, -1])\n",
    "\n",
    "test_X = np.array([\n",
    "    [5, -7],\n",
    "    [5.5, -9],\n",
    "    [8, -8],\n",
    "    [9, -8],\n",
    "    [7, -2.5],\n",
    "    [8, -5],\n",
    "    [5, -5],\n",
    "    [6.5, -4],\n",
    "])\n",
    "test_y = np.array([1, 1, 1, 1, -1, -1, -1, -1])\n",
    "\n",
    "m = train_X.shape[0]\n",
    "print(m)"
   ]
  },
  {
   "cell_type": "markdown",
   "metadata": {},
   "source": [
    "### Model"
   ]
  },
  {
   "cell_type": "code",
   "execution_count": 3,
   "metadata": {},
   "outputs": [
    {
     "data": {
      "text/plain": [
       "SVC(kernel='linear')"
      ]
     },
     "execution_count": 3,
     "metadata": {},
     "output_type": "execute_result"
    }
   ],
   "source": [
    "clf = svm.SVC(kernel='linear')\n",
    "clf.fit(train_X, train_y)"
   ]
  },
  {
   "cell_type": "code",
   "execution_count": 4,
   "metadata": {},
   "outputs": [
    {
     "name": "stdout",
     "output_type": "stream",
     "text": [
      "alpha: [0.03172284 0.         0.1360743  0.         0.         0.\n",
      " 0.         0.16779714]\n",
      "w: [[-0.09516853 -0.57142857]], intercept: [-3.00055654]\n",
      "support vectors with idx [7 0 2]:\n",
      "[[ 9.  -5. ]\n",
      " [ 6.  -8. ]\n",
      " [ 9.  -8.5]]\n"
     ]
    }
   ],
   "source": [
    "\"\"\"\n",
    "clf.dual_coef_[i] = labels[i] * alphas[i]\n",
    "where labels[i] is either -1 or +1 and alphas[i] are always positive.\n",
    "\"\"\"\n",
    "alpha = np.zeros((m,))\n",
    "alpha[clf.support_] = np.abs(clf.dual_coef_)\n",
    "print(f\"alpha: {alpha}\")\n",
    "print(f\"w: {clf.coef_}, intercept: {clf.intercept_}\")\n",
    "print(f\"support vectors with idx {clf.support_}:\\n{clf.support_vectors_}\")"
   ]
  },
  {
   "cell_type": "code",
   "execution_count": 5,
   "metadata": {},
   "outputs": [
    {
     "name": "stdout",
     "output_type": "stream",
     "text": [
      "w:[-0.09516853 -0.57142857], equal=[[ True  True]]\n",
      "b:-3.000556541097076, equal=[ True]\n"
     ]
    }
   ],
   "source": [
    "# analytical solution\n",
    "def optimal_solution(X, y, alpha):\n",
    "    w = sum((alpha[i] * y[i] * X[i]) for i in range(m))\n",
    "    S_len = clf.support_.shape[0]\n",
    "    b = sum((1/y[idx] - w.T @ x_s) for idx, x_s in zip(clf.support_, clf.support_vectors_)) / S_len\n",
    "    return (w, b)\n",
    "w_test, b_test = optimal_solution(train_X, train_y, alpha)\n",
    "print(f'w:{w_test}, equal={np.isclose(clf.coef_, w_test)}\\nb:{b_test}, equal={np.isclose(clf.intercept_, b_test)}')"
   ]
  },
  {
   "cell_type": "markdown",
   "metadata": {},
   "source": [
    "### Test Set"
   ]
  },
  {
   "cell_type": "code",
   "execution_count": 6,
   "metadata": {},
   "outputs": [
    {
     "name": "stdout",
     "output_type": "stream",
     "text": [
      "[ 1  1  1  1 -1 -1 -1 -1]\n"
     ]
    }
   ],
   "source": [
    "test_pred = clf.predict(test_X)\n",
    "print(test_pred)"
   ]
  },
  {
   "cell_type": "code",
   "execution_count": 7,
   "metadata": {},
   "outputs": [
    {
     "name": "stdout",
     "output_type": "stream",
     "text": [
      "[ 0.52360082  1.6188737   0.80952381  0.71435528 -2.23816481 -0.9047619\n",
      " -0.61925632 -1.33343768]\n",
      "[ 1.  1.  1.  1. -1. -1. -1. -1.]\n"
     ]
    }
   ],
   "source": [
    "def linear_svm_predict(X: np.array):\n",
    "    raw = np.apply_along_axis(lambda x: w_test.T @ x + b_test, axis=1, arr=X)\n",
    "    print(raw)\n",
    "    return np.sign(raw)\n",
    "print(linear_svm_predict(test_X))"
   ]
  },
  {
   "cell_type": "markdown",
   "metadata": {},
   "source": [
    "### Plot"
   ]
  },
  {
   "cell_type": "code",
   "execution_count": 8,
   "metadata": {},
   "outputs": [],
   "source": [
    "def plot_svc_decision_function(model, ax=None, plot_support=True):\n",
    "    \"\"\"Plot the decision function for a 2D SVC\"\"\"\n",
    "    if ax is None:\n",
    "        ax = plt.gca()\n",
    "    xlim = ax.get_xlim()\n",
    "    ylim = ax.get_ylim()\n",
    "    \n",
    "    # create grid to evaluate model\n",
    "    x = np.linspace(xlim[0], xlim[1], 30)\n",
    "    y = np.linspace(ylim[0], ylim[1], 30)\n",
    "    Y, X = np.meshgrid(y, x)\n",
    "    xy = np.vstack([X.ravel(), Y.ravel()]).T\n",
    "    P = model.decision_function(xy).reshape(X.shape)\n",
    "    \n",
    "    # plot decision boundary and margins\n",
    "    ax.contour(X, Y, P, colors='k',\n",
    "               levels=[-1, 0, 1], alpha=0.5,\n",
    "               linestyles=['--', '-', '--'])\n",
    "    \n",
    "    # plot support vectors\n",
    "    if plot_support:\n",
    "        ax.scatter(model.support_vectors_[:, 0],\n",
    "                    model.support_vectors_[:, 1],\n",
    "                    s=100, linewidth=1, facecolors='none',edgecolors='k')\n",
    "    ax.set_xlim(xlim)\n",
    "    ax.set_ylim(ylim)"
   ]
  },
  {
   "cell_type": "code",
   "execution_count": 9,
   "metadata": {},
   "outputs": [
    {
     "data": {
      "image/png": "[encoded data removed]",
      "text/plain": [
       "<Figure size 432x288 with 1 Axes>"
      ]
     },
     "metadata": {
      "needs_background": "light"
     },
     "output_type": "display_data"
    }
   ],
   "source": [
    "plt.scatter(train_X[:, 0], train_X[:, 1], c=train_y, s=50, cmap=plt.cm.Paired)\n",
    "plot_svc_decision_function(clf, plot_support=True)"
   ]
  }
 ],
 "metadata": {
  "interpreter": {
   "hash": "31f2aee4e71d21fbe5cf8b01ff0e069b9275f58929596ceb00d14d90e3e16cd6"
  },
  "kernelspec": {
   "display_name": "Python 3.8.10 64-bit",
   "name": "python3"
  },
  "language_info": {
   "codemirror_mode": {
    "name": "ipython",
    "version": 3
   },
   "file_extension": ".py",
   "mimetype": "text/x-python",
   "name": "python",
   "nbconvert_exporter": "python",
   "pygments_lexer": "ipython3",
   "version": "3.8.10"
  },
  "orig_nbformat": 4
 },
 "nbformat": 4,
 "nbformat_minor": 2
}
