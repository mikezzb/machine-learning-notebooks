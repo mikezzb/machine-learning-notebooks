{
 "cells": [
  {
   "cell_type": "markdown",
   "metadata": {},
   "source": [
    "# Neural Network"
   ]
  },
  {
   "cell_type": "markdown",
   "metadata": {},
   "source": [
    "## NN for Binary Classification\n",
    "![1](images/NN/1.png)"
   ]
  },
  {
   "cell_type": "code",
   "execution_count": 8,
   "metadata": {},
   "outputs": [
    {
     "name": "stdout",
     "output_type": "stream",
     "text": [
      "cuda\n"
     ]
    }
   ],
   "source": [
    "import torch\n",
    "import pandas as pd\n",
    "import matplotlib.pyplot as plt\n",
    "\n",
    "device = torch.device('cuda')"
   ]
  },
  {
   "cell_type": "markdown",
   "metadata": {},
   "source": [
    "### Data Preparation"
   ]
  },
  {
   "cell_type": "code",
   "execution_count": 2,
   "metadata": {},
   "outputs": [
    {
     "name": "stdout",
     "output_type": "stream",
     "text": [
      "tensor([[ 0.3394],\n",
      "        [ 0.2107],\n",
      "        [-0.3598],\n",
      "        ...,\n",
      "        [-0.1718],\n",
      "        [ 0.0789],\n",
      "        [ 0.1558]], device='cuda:0')\n",
      "x shape: torch.Size([10000, 1]) y shape: torch.Size([10000, 1])\n",
      "w1 shape: torch.Size([1, 3]) w2 shape torch.Size([3, 1])\n"
     ]
    }
   ],
   "source": [
    "# Load Data\n",
    "train = pd.read_csv(\"data/NN/train_q3.csv\")\n",
    "test = pd.read_csv(\"data/NN/test_q3.csv\")\n",
    "\n",
    "train_x = torch.tensor(train[[\"x\"]].values, device=device).float()\n",
    "train_y = torch.tensor(train[[\"y\"]].values, device=device).float()\n",
    "test_x = torch.tensor(test[[\"x\"]].values, device=device).float()\n",
    "test_y = torch.tensor(test[[\"y\"]].values, device=device).float()\n",
    "\n",
    "print(train_x)\n",
    "print(f\"x shape: {train_x.shape} y shape: {train_y.shape}\")\n",
    "\n",
    "# Initial Weights\n",
    "w1 = torch.tensor([[0.12, 0.26, -0.15]], device=device,\n",
    "                  requires_grad=True).float()\n",
    "w2 = torch.tensor([[0.11], [0.13], [0.07]], device=device,\n",
    "                  requires_grad=True).float()\n",
    "print(f\"w1 shape: {w1.shape} w2 shape {w2.shape}\")\n",
    "\n",
    "# Default Params\n",
    "iterations = 50\n",
    "decay_factor = 0.3\n",
    "decay_interval = 20\n",
    "\n",
    "learning_rate = 0.5\n",
    "train_loss = []\n"
   ]
  },
  {
   "cell_type": "markdown",
   "metadata": {},
   "source": [
    "### Train"
   ]
  },
  {
   "cell_type": "code",
   "execution_count": 3,
   "metadata": {},
   "outputs": [],
   "source": [
    "# Utils\n",
    "def lr_decay(lr, iter):\n",
    "    return lr * pow(decay_factor, iter // decay_interval)\n",
    "\n",
    "# Training\n",
    "for t in range(iterations):\n",
    "    y_pred = train_x.mm(w1).clamp(min=0).mm(w2)\n",
    "    loss = torch.nn.functional.binary_cross_entropy_with_logits(\n",
    "        y_pred, train_y, reduction=\"mean\")\n",
    "    train_loss.append(loss.item())\n",
    "\n",
    "    loss.backward()\n",
    "\n",
    "    with torch.no_grad():\n",
    "        w1 -= learning_rate * w1.grad\n",
    "        w2 -= learning_rate * w2.grad\n",
    "\n",
    "        w1.grad.zero_()\n",
    "        w2.grad.zero_()\n",
    "    \n",
    "    learning_rate = lr_decay(learning_rate, t)\n"
   ]
  },
  {
   "cell_type": "markdown",
   "metadata": {},
   "source": [
    "### Eval"
   ]
  },
  {
   "cell_type": "code",
   "execution_count": 4,
   "metadata": {},
   "outputs": [
    {
     "name": "stdout",
     "output_type": "stream",
     "text": [
      "tensor([[ 0.2253,  0.4107, -0.1328]], device='cuda:0', requires_grad=True)\n",
      "tensor([[ 0.2203,  0.3450, -0.0196]], device='cuda:0', grad_fn=<TBackward>)\n",
      "Test Accuracy: 100.000 %\n"
     ]
    },
    {
     "data": {
      "image/png": "[encoded data removed]",
      "text/plain": [
       "<Figure size 432x288 with 1 Axes>"
      ]
     },
     "metadata": {
      "needs_background": "light"
     },
     "output_type": "display_data"
    }
   ],
   "source": [
    "def evaluate(test_x, test_y, w1, w2, threshold=0.5):\n",
    "    y_pred = test_x.mm(w1).clamp(min=0).mm(w2)\n",
    "    y_pred = torch.sigmoid(y_pred) > threshold\n",
    "    print(\n",
    "        f'Test Accuracy: {100 * y_pred.eq(test_y).sum().item() / len(test_y):.3f} %')\n",
    "\n",
    "def plot(iterations, loss):\n",
    "    plt.plot([_ for _ in range(iterations)], loss)\n",
    "    plt.show\n",
    "\n",
    "print(w1)\n",
    "print(w2.t())\n",
    "evaluate(test_x, test_y, w1, w2)\n",
    "plot(iterations, train_loss)"
   ]
  },
  {
   "cell_type": "markdown",
   "metadata": {},
   "source": [
    "## NN for Multi-Class Classification\n",
    "![](images/NN/2.png)"
   ]
  },
  {
   "cell_type": "markdown",
   "metadata": {},
   "source": [
    "### Data"
   ]
  },
  {
   "cell_type": "code",
   "execution_count": 5,
   "metadata": {},
   "outputs": [
    {
     "name": "stdout",
     "output_type": "stream",
     "text": [
      "tensor([[-2.2928, -0.6392],\n",
      "        [ 4.7084, -0.1297],\n",
      "        [-1.7402,  6.4496],\n",
      "        ...,\n",
      "        [ 5.0110, -1.7008],\n",
      "        [ 1.4483,  1.4732],\n",
      "        [ 2.3472,  0.0876]], device='cuda:0')\n",
      "x shape: torch.Size([10000, 2]) y shape: torch.Size([10000])\n",
      "w1 shape: torch.Size([2, 3]) w2 shape torch.Size([3, 3])\n"
     ]
    }
   ],
   "source": [
    "# Load Data\n",
    "train = pd.read_csv(\"data/NN/train_q4.csv\")\n",
    "test = pd.read_csv(\"data/NN/test_q4.csv\")\n",
    "\n",
    "train_x = torch.tensor(train[[\"x1\", \"x2\"]].values, device=device).float()\n",
    "train_y = torch.tensor(train[\"y\"].values, device=device)\n",
    "test_x = torch.tensor(test[[\"x1\", \"x2\"]].values, device=device).float()\n",
    "test_y = torch.tensor(test[\"y\"].values, device=device)\n",
    "\n",
    "print(train_x)\n",
    "print(f\"x shape: {train_x.shape} y shape: {train_y.shape}\")\n",
    "\n",
    "# Initial Weights\n",
    "w1 = torch.tensor(\n",
    "    [[ 0.74, 0.10,  0.98],\n",
    "    [-2.04, -1.40, -0.31]], device=device, requires_grad=True)\n",
    "w2 = torch.tensor(torch.tensor(\n",
    "    [[ 1.37, -0.90, -0.80],\n",
    "    [-0.08,  0.94,  0.47],\n",
    "    [-0.30,  0.57,  0.93]]).t().tolist(), device=device, requires_grad=True)\n",
    "print(f\"w1 shape: {w1.shape} w2 shape {w2.shape}\")\n",
    "\n",
    "# Default Params\n",
    "iterations = 50\n",
    "decay_factor = 0.3\n",
    "decay_interval = 20\n",
    "\n",
    "learning_rate = 0.1\n",
    "train_loss = []\n"
   ]
  },
  {
   "cell_type": "code",
   "execution_count": 6,
   "metadata": {},
   "outputs": [],
   "source": [
    "# Training\n",
    "for t in range(iterations):\n",
    "    y_pred = train_x.mm(w1).clamp(min=0).mm(w2)\n",
    "    loss = torch.nn.functional.nll_loss(\n",
    "        torch.nn.LogSoftmax(dim=1)(y_pred), train_y)\n",
    "    train_loss.append(loss.item())\n",
    "\n",
    "    loss.backward()\n",
    "\n",
    "    with torch.no_grad():\n",
    "        w1 -= learning_rate * w1.grad\n",
    "        w2 -= learning_rate * w2.grad\n",
    "        w1.grad.zero_()\n",
    "        w2.grad.zero_()\n",
    "\n",
    "    learning_rate = lr_decay(learning_rate, t)\n"
   ]
  },
  {
   "cell_type": "code",
   "execution_count": 7,
   "metadata": {},
   "outputs": [
    {
     "name": "stdout",
     "output_type": "stream",
     "text": [
      "tensor([[ 0.9945, -0.2716,  0.9460],\n",
      "        [-2.0672, -1.4132,  0.1083]], device='cuda:0', requires_grad=True)\n",
      "tensor([[ 1.5217, -0.9055, -0.7222],\n",
      "        [-0.0799,  1.0191,  0.9763],\n",
      "        [-0.4518,  0.4963,  0.3459]], device='cuda:0', grad_fn=<TBackward>)\n",
      "Test Accuracy: 93.950 %\n"
     ]
    },
    {
     "data": {
      "image/png": "[encoded data removed]",
      "text/plain": [
       "<Figure size 432x288 with 1 Axes>"
      ]
     },
     "metadata": {
      "needs_background": "light"
     },
     "output_type": "display_data"
    }
   ],
   "source": [
    "def evaluate(test_x, test_y, w1, w2):\n",
    "    y_pred = test_x.mm(w1).clamp(min=0).mm(w2)\n",
    "    y_pred = torch.softmax(y_pred, dim=1).max(1)[1]\n",
    "    print(\n",
    "        f'Test Accuracy: {100 * y_pred.eq(test_y).sum().item() / len(test_y):.3f} %')\n",
    "\n",
    "\n",
    "print(w1)\n",
    "print(w2.t())\n",
    "evaluate(test_x, test_y, w1, w2)\n",
    "plot(iterations, train_loss)"
   ]
  }
 ],
 "metadata": {
  "interpreter": {
   "hash": "31f2aee4e71d21fbe5cf8b01ff0e069b9275f58929596ceb00d14d90e3e16cd6"
  },
  "kernelspec": {
   "display_name": "Python 3.8.10 64-bit",
   "language": "python",
   "name": "python3"
  },
  "language_info": {
   "codemirror_mode": {
    "name": "ipython",
    "version": 3
   },
   "file_extension": ".py",
   "mimetype": "text/x-python",
   "name": "python",
   "nbconvert_exporter": "python",
   "pygments_lexer": "ipython3",
   "version": "3.8.8"
  },
  "orig_nbformat": 4
 },
 "nbformat": 4,
 "nbformat_minor": 2
}
