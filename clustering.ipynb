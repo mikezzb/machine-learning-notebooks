{
 "cells": [
  {
   "cell_type": "markdown",
   "metadata": {},
   "source": [
    "# Clustering"
   ]
  },
  {
   "cell_type": "markdown",
   "metadata": {},
   "source": [
    "## K-means"
   ]
  },
  {
   "cell_type": "code",
   "execution_count": 1,
   "metadata": {},
   "outputs": [],
   "source": [
    "import numpy as np\n",
    "import matplotlib.pyplot as plt\n",
    "from sklearn import cluster"
   ]
  },
  {
   "cell_type": "code",
   "execution_count": 2,
   "metadata": {},
   "outputs": [
    {
     "name": "stdout",
     "output_type": "stream",
     "text": [
      "(24, 2)\n"
     ]
    },
    {
     "data": {
      "image/png": "[encoded data removed]",
      "text/plain": [
       "<Figure size 432x288 with 1 Axes>"
      ]
     },
     "metadata": {
      "needs_background": "light"
     },
     "output_type": "display_data"
    }
   ],
   "source": [
    "X = np.array([\n",
    "    [2, 4],\n",
    "    [3, 4],\n",
    "    [3, 3],\n",
    "    [5, 8],\n",
    "    [5, 6],\n",
    "    [5, 4],\n",
    "    [6, 7],\n",
    "    [6, 5],\n",
    "    [6, 4],\n",
    "    [7, 4],\n",
    "    [7, 3],\n",
    "    [8, 2],\n",
    "    [9, 4],\n",
    "    [10, 8],\n",
    "    [10, 7],\n",
    "    [10, 6],\n",
    "    [11, 8],\n",
    "    [11, 5],\n",
    "    [12, 7],\n",
    "    [13, 7],\n",
    "    [13, 6],\n",
    "    [14, 6],\n",
    "    [15, 5],\n",
    "    [15, 4],\n",
    "])\n",
    "print(X.shape)\n",
    "plt.scatter(X[:,0], X[:,1])\n",
    "plt.show()"
   ]
  },
  {
   "cell_type": "code",
   "execution_count": 3,
   "metadata": {},
   "outputs": [],
   "source": [
    "k = 2\n",
    "initial_centers = np.array([[5, 4], [12, 6]])"
   ]
  },
  {
   "cell_type": "code",
   "execution_count": 4,
   "metadata": {},
   "outputs": [
    {
     "name": "stdout",
     "output_type": "stream",
     "text": [
      "Initialization complete\n",
      "Iteration 0, inertia 141.0\n",
      "Iteration 1, inertia 137.08333333333334\n",
      "Converged at iteration 1: strict convergence.\n"
     ]
    },
    {
     "data": {
      "image/png": "[encoded data removed]",
      "text/plain": [
       "<Figure size 432x288 with 1 Axes>"
      ]
     },
     "metadata": {
      "needs_background": "light"
     },
     "output_type": "display_data"
    }
   ],
   "source": [
    "kmeans = cluster.KMeans(k, init=initial_centers, n_init=1, verbose=True)\n",
    "kmeans.fit(X)\n",
    "labels = kmeans.labels_\n",
    "l0 = X[np.argwhere(labels == 0).flatten()]\n",
    "l1 = X[np.argwhere(labels == 1).flatten()]\n",
    "plt.scatter(l0[:,0], l0[:,1])\n",
    "plt.scatter(l1[:,0], l1[:,1])\n",
    "plt.show()"
   ]
  }
 ],
 "metadata": {
  "interpreter": {
   "hash": "31f2aee4e71d21fbe5cf8b01ff0e069b9275f58929596ceb00d14d90e3e16cd6"
  },
  "kernelspec": {
   "display_name": "Python 3.8.10 64-bit",
   "name": "python3"
  },
  "language_info": {
   "codemirror_mode": {
    "name": "ipython",
    "version": 3
   },
   "file_extension": ".py",
   "mimetype": "text/x-python",
   "name": "python",
   "nbconvert_exporter": "python",
   "pygments_lexer": "ipython3",
   "version": "3.8.10"
  },
  "orig_nbformat": 4
 },
 "nbformat": 4,
 "nbformat_minor": 2
}
