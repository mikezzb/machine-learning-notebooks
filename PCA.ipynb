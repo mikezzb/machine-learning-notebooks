{
 "cells": [
  {
   "cell_type": "markdown",
   "metadata": {},
   "source": [
    "# PCA"
   ]
  },
  {
   "cell_type": "code",
   "execution_count": 1,
   "metadata": {},
   "outputs": [
    {
     "name": "stdout",
     "output_type": "stream",
     "text": [
      "[[2 2 2]\n",
      " [2 2 2]\n",
      " [2 2 2]]\n",
      "Eigval (XX^T): [ 6.  0. -0.]\n",
      "Eigvectors (XX^T): [[ 0.57735027  0.57735027  0.57735027]\n",
      " [-0.         -0.70710678  0.70710678]\n",
      " [ 0.60978166 -0.77512986  0.1653482 ]]\n"
     ]
    }
   ],
   "source": [
    "import numpy as np\n",
    "import numpy.linalg as LA\n",
    "np.set_printoptions(suppress=True)\n",
    "\n",
    "X = np.array([[1, 0, 1, 0], [1, 0, 1, 0], [1, 0, 1, 0]])\n",
    "X_prime = np.array([[1, 0, 0, 1], [1, 0, 0, 1], [1, 0, 0, 1]])\n",
    "d = 1\n",
    "\n",
    "print(X @ X.T)\n",
    "\n",
    "w, v = LA.eig(X @ X.T)\n",
    "v = v.T # The eigenvalues returned by linalg.eig are columns vectors by default\n",
    "print(f\"Eigval (XX^T): {w}\\nEigvectors (XX^T): {v}\")"
   ]
  },
  {
   "cell_type": "code",
   "execution_count": 2,
   "metadata": {},
   "outputs": [
    {
     "name": "stdout",
     "output_type": "stream",
     "text": [
      "[[1. 0. 0. 0.]]\n",
      "[0.]\n"
     ]
    },
    {
     "name": "stderr",
     "output_type": "stream",
     "text": [
      "/home/mike/.local/lib/python3.8/site-packages/sklearn/decomposition/_pca.py:501: RuntimeWarning: invalid value encountered in true_divide\n",
      "  explained_variance_ratio_ = explained_variance_ / total_var\n"
     ]
    }
   ],
   "source": [
    "from sklearn.decomposition import PCA\n",
    "pca = PCA(n_components=d)\n",
    "pca.fit(X)\n",
    "print(pca.components_)\n",
    "print(pca.explained_variance_)"
   ]
  }
 ],
 "metadata": {
  "interpreter": {
   "hash": "31f2aee4e71d21fbe5cf8b01ff0e069b9275f58929596ceb00d14d90e3e16cd6"
  },
  "kernelspec": {
   "display_name": "Python 3.8.10 64-bit",
   "language": "python",
   "name": "python3"
  },
  "language_info": {
   "codemirror_mode": {
    "name": "ipython",
    "version": 3
   },
   "file_extension": ".py",
   "mimetype": "text/x-python",
   "name": "python",
   "nbconvert_exporter": "python",
   "pygments_lexer": "ipython3",
   "version": "3.8.10"
  },
  "orig_nbformat": 4
 },
 "nbformat": 4,
 "nbformat_minor": 2
}
